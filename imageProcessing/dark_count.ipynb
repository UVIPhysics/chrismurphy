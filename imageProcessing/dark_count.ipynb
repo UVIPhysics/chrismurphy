{
 "cells": [
  {
   "cell_type": "markdown",
   "metadata": {},
   "source": [
    "Christopher Murphy\n",
    "\n",
    "Dr. Cucchiara\n",
    "\n",
    "November 2018\n",
    "\n",
    "# Darks and Flats Analysis"
   ]
  },
  {
   "cell_type": "code",
   "execution_count": 1,
   "metadata": {},
   "outputs": [
    {
     "name": "stderr",
     "output_type": "stream",
     "text": [
      "/usr/local/lib/python3.7/site-packages/pyfits/__init__.py:22: PyFITSDeprecationWarning: PyFITS is deprecated, please use astropy.io.fits\n",
      "  PyFITSDeprecationWarning)  # noqa\n"
     ]
    },
    {
     "name": "stdout",
     "output_type": "stream",
     "text": [
      "['GTK', 'GTKAgg', 'GTKCairo', 'GTK3Agg', 'GTK3Cairo', 'MacOSX', 'nbAgg', 'Qt4Agg', 'Qt4Cairo', 'Qt5Agg', 'Qt5Cairo', 'TkAgg', 'TkCairo', 'WebAgg', 'WX', 'WXAgg', 'WXCairo', 'agg', 'cairo', 'gdk', 'pdf', 'pgf', 'ps', 'svg', 'template']\n"
     ]
    }
   ],
   "source": [
    "import numpy as np\n",
    "import matplotlib.pyplot as plt\n",
    "import glob\n",
    "import pyfits\n",
    "import scipy.optimize as optimization\n",
    "from matplotlib import rc\n",
    "import matplotlib.rcsetup as rcsetup\n",
    "print(rcsetup.all_backends)"
   ]
  },
  {
   "cell_type": "code",
   "execution_count": 2,
   "metadata": {},
   "outputs": [],
   "source": [
    "%matplotlib inline\n",
    "%matplotlib notebook\n",
    "%matplotlib notebook"
   ]
  },
  {
   "cell_type": "code",
   "execution_count": 18,
   "metadata": {},
   "outputs": [],
   "source": [
    "# Relative data directory \n",
    "datadir = \"/Users/chrismurphy/Desktop/Etelman/imageProcessing/20180905/\""
   ]
  },
  {
   "cell_type": "code",
   "execution_count": 29,
   "metadata": {},
   "outputs": [
    {
     "name": "stdout",
     "output_type": "stream",
     "text": [
      "['/Users/chrismurphy/Desktop/Etelman/imageProcessing/20180905/']\n"
     ]
    }
   ],
   "source": [
    "a = glob.glob(datadir)\n",
    "print(a)\n",
    "biglist_dark=glob.glob(datadir+'Darks*')"
   ]
  },
  {
   "cell_type": "code",
   "execution_count": 30,
   "metadata": {},
   "outputs": [
    {
     "name": "stdout",
     "output_type": "stream",
     "text": [
      "['/Users/chrismurphy/Desktop/Etelman/imageProcessing/20180905/Darks-0015.fts', '/Users/chrismurphy/Desktop/Etelman/imageProcessing/20180905/Darks-0001.fts', '/Users/chrismurphy/Desktop/Etelman/imageProcessing/20180905/Darks-0029.fts', '/Users/chrismurphy/Desktop/Etelman/imageProcessing/20180905/Darks-0028.fts', '/Users/chrismurphy/Desktop/Etelman/imageProcessing/20180905/Darks-0000.fts', '/Users/chrismurphy/Desktop/Etelman/imageProcessing/20180905/Darks-0014.fts', '/Users/chrismurphy/Desktop/Etelman/imageProcessing/20180905/Darks-0002.fts', '/Users/chrismurphy/Desktop/Etelman/imageProcessing/20180905/Darks-0016.fts', '/Users/chrismurphy/Desktop/Etelman/imageProcessing/20180905/Darks-0017.fts', '/Users/chrismurphy/Desktop/Etelman/imageProcessing/20180905/Darks-0003.fts', '/Users/chrismurphy/Desktop/Etelman/imageProcessing/20180905/Darks-0007.fts', '/Users/chrismurphy/Desktop/Etelman/imageProcessing/20180905/Darks-0013.fts', '/Users/chrismurphy/Desktop/Etelman/imageProcessing/20180905/Darks-0012.fts', '/Users/chrismurphy/Desktop/Etelman/imageProcessing/20180905/Darks-0006.fts', '/Users/chrismurphy/Desktop/Etelman/imageProcessing/20180905/Darks-0010.fts', '/Users/chrismurphy/Desktop/Etelman/imageProcessing/20180905/Darks-0004.fts', '/Users/chrismurphy/Desktop/Etelman/imageProcessing/20180905/Darks-0005.fts', '/Users/chrismurphy/Desktop/Etelman/imageProcessing/20180905/Darks-0011.fts', '/Users/chrismurphy/Desktop/Etelman/imageProcessing/20180905/Darks-0034.fts', '/Users/chrismurphy/Desktop/Etelman/imageProcessing/20180905/Darks-0020.fts', '/Users/chrismurphy/Desktop/Etelman/imageProcessing/20180905/Darks-0008.fts', '/Users/chrismurphy/Desktop/Etelman/imageProcessing/20180905/Darks-0009.fts', '/Users/chrismurphy/Desktop/Etelman/imageProcessing/20180905/Darks-0021.fts', '/Users/chrismurphy/Desktop/Etelman/imageProcessing/20180905/Darks-0023.fts', '/Users/chrismurphy/Desktop/Etelman/imageProcessing/20180905/Darks-0022.fts', '/Users/chrismurphy/Desktop/Etelman/imageProcessing/20180905/Darks-0026.fts', '/Users/chrismurphy/Desktop/Etelman/imageProcessing/20180905/Darks-0032.fts', '/Users/chrismurphy/Desktop/Etelman/imageProcessing/20180905/Darks-0033.fts', '/Users/chrismurphy/Desktop/Etelman/imageProcessing/20180905/Darks-0027.fts', '/Users/chrismurphy/Desktop/Etelman/imageProcessing/20180905/Darks-0019.fts', '/Users/chrismurphy/Desktop/Etelman/imageProcessing/20180905/Darks-0031.fts', '/Users/chrismurphy/Desktop/Etelman/imageProcessing/20180905/Darks-0025.fts', '/Users/chrismurphy/Desktop/Etelman/imageProcessing/20180905/Darks-0024.fts', '/Users/chrismurphy/Desktop/Etelman/imageProcessing/20180905/Darks-0030.fts', '/Users/chrismurphy/Desktop/Etelman/imageProcessing/20180905/Darks-0018.fts']\n"
     ]
    }
   ],
   "source": [
    "print(biglist_dark)"
   ]
  },
  {
   "cell_type": "code",
   "execution_count": 49,
   "metadata": {},
   "outputs": [],
   "source": [
    "#bl = biglist? , E = exposure time? , T = ccd temperature??\n",
    "def createlist(bl, E, T):\n",
    "    smalllist_dark = []\n",
    "    for darks in bl:\n",
    "        myfile=pyfits.open(darks)\n",
    "        head1=myfile[0].header\n",
    "        #print(head1) #Finding new keywords for exposure time and ccd temperature \n",
    "        if float(head1['EXPTIME']) == E and float(head1['CAMTEMP']) == T:\n",
    "            smalllist_dark.append(darks)\n",
    "    return smalllist_dark"
   ]
  },
  {
   "cell_type": "code",
   "execution_count": 50,
   "metadata": {},
   "outputs": [],
   "source": [
    "# #what is wl?\n",
    "# def calcmean(wl):\n",
    "#     mean_counts = []\n",
    "#     for darks in wl:\n",
    "#         myfile=pyfits.open(darks)\n",
    "#         mean_counts.append(float(np.mean(myfile[0].data)))\n",
    "#         myfile.close()\n",
    "        \n",
    "#     return mean_counts"
   ]
  },
  {
   "cell_type": "code",
   "execution_count": 57,
   "metadata": {},
   "outputs": [],
   "source": [
    "#I think this is the one we need ? has both mean and std\n",
    "#what is wl?\n",
    "def calcmean(wl):    \n",
    "    mean_counts = []\n",
    "    for darks in wl:\n",
    "        myfile=pyfits.open(darks)\n",
    "        mean_counts.append(float(np.mean(myfile[0].data)))\n",
    "        myfile.close()\n",
    "    \n",
    "    return [np.mean(mean_counts), np.std(mean_counts)]"
   ]
  },
  {
   "cell_type": "code",
   "execution_count": 52,
   "metadata": {},
   "outputs": [
    {
     "name": "stderr",
     "output_type": "stream",
     "text": [
      "/usr/local/lib/python3.7/site-packages/numpy/core/fromnumeric.py:2920: RuntimeWarning: Mean of empty slice.\n",
      "  out=out, **kwargs)\n",
      "/usr/local/lib/python3.7/site-packages/numpy/core/_methods.py:85: RuntimeWarning: invalid value encountered in double_scalars\n",
      "  ret = ret.dtype.type(ret / rcount)\n",
      "/usr/local/lib/python3.7/site-packages/numpy/core/_methods.py:140: RuntimeWarning: Degrees of freedom <= 0 for slice\n",
      "  keepdims=keepdims)\n",
      "/usr/local/lib/python3.7/site-packages/numpy/core/_methods.py:110: RuntimeWarning: invalid value encountered in true_divide\n",
      "  arrmean, rcount, out=arrmean, casting='unsafe', subok=False)\n",
      "/usr/local/lib/python3.7/site-packages/numpy/core/_methods.py:132: RuntimeWarning: invalid value encountered in double_scalars\n",
      "  ret = ret.dtype.type(ret / rcount)\n"
     ]
    }
   ],
   "source": [
    "test1= calcmean2(createlist(biglist_dark, 1.0, -15))\n",
    "test2= calcmean2(createlist(biglist_dark, 2.0, -15))\n",
    "test3= calcmean2(createlist(biglist_dark, 5.0, -15))\n",
    "test4= calcmean2(createlist(biglist_dark, 10.0, -15))\n",
    "test5= calcmean2(createlist(biglist_dark, 20.0, -15))\n",
    "test6= calcmean2(createlist(biglist_dark, 60.0, -15))\n",
    "test7= calcmean2(createlist(biglist_dark, 120.0, -15))"
   ]
  },
  {
   "cell_type": "code",
   "execution_count": 53,
   "metadata": {},
   "outputs": [
    {
     "name": "stdout",
     "output_type": "stream",
     "text": [
      "[1296.5528988838196, 0.0]\n"
     ]
    }
   ],
   "source": [
    "print(test7)"
   ]
  },
  {
   "cell_type": "code",
   "execution_count": 54,
   "metadata": {},
   "outputs": [],
   "source": [
    "#Means & Standard Deviations\n",
    "means = (test1[0], test2[0], test3[0], test4[0], test5[0], test6[0], test7[0])\n",
    "stds= (test1[1], test2[1], test3[1], test4[1], test5[1], test6[1], test7[1])"
   ]
  },
  {
   "cell_type": "code",
   "execution_count": 55,
   "metadata": {},
   "outputs": [
    {
     "name": "stdout",
     "output_type": "stream",
     "text": [
      "(1163.7467334270477, 1164.6702036857605, 1168.1425251960754, 1173.6015865802765, nan, 1228.768436908722, 1296.5528988838196)\n"
     ]
    }
   ],
   "source": [
    "print(means)"
   ]
  },
  {
   "cell_type": "code",
   "execution_count": 56,
   "metadata": {},
   "outputs": [],
   "source": [
    "exposure_times = [1, 2, 5, 10, 20, 60, 120] #Seconds\n",
    "temperatures = [-15, -20, -25, -30, -35] #Celcius"
   ]
  },
  {
   "cell_type": "code",
   "execution_count": 60,
   "metadata": {},
   "outputs": [
    {
     "name": "stderr",
     "output_type": "stream",
     "text": [
      "/usr/local/lib/python3.7/site-packages/numpy/core/fromnumeric.py:2920: RuntimeWarning: Mean of empty slice.\n",
      "  out=out, **kwargs)\n",
      "/usr/local/lib/python3.7/site-packages/numpy/core/_methods.py:85: RuntimeWarning: invalid value encountered in double_scalars\n",
      "  ret = ret.dtype.type(ret / rcount)\n",
      "/usr/local/lib/python3.7/site-packages/numpy/core/_methods.py:140: RuntimeWarning: Degrees of freedom <= 0 for slice\n",
      "  keepdims=keepdims)\n",
      "/usr/local/lib/python3.7/site-packages/numpy/core/_methods.py:110: RuntimeWarning: invalid value encountered in true_divide\n",
      "  arrmean, rcount, out=arrmean, casting='unsafe', subok=False)\n",
      "/usr/local/lib/python3.7/site-packages/numpy/core/_methods.py:132: RuntimeWarning: invalid value encountered in double_scalars\n",
      "  ret = ret.dtype.type(ret / rcount)\n"
     ]
    }
   ],
   "source": [
    "means = {}\n",
    "for c in temperatures:\n",
    "    mean = []\n",
    "    std = []\n",
    "    calculations = {}\n",
    "    for s in exposure_times:\n",
    "        ms = calcmean2(createlist(biglist_dark, s, c))\n",
    "        mean_ = ms[0]\n",
    "        std_ = ms[1]\n",
    "        mean.append(mean_)\n",
    "        std.append(std_)\n",
    "        calculations['mean'] = mean\n",
    "        calculations['std'] = std\n",
    "    means[c] = calculations   \n",
    "# #         mean_std['mean'] = ms[0]\n",
    "# #         mean_std['std'] = ms[1]\n",
    "# #         mean_std.append(ms)\n",
    "#     means[s] = \n",
    "    "
   ]
  },
  {
   "cell_type": "code",
   "execution_count": 61,
   "metadata": {},
   "outputs": [
    {
     "name": "stdout",
     "output_type": "stream",
     "text": [
      "{-15: {'mean': [1163.7467334270477, 1164.6702036857605, 1168.1425251960754, 1173.6015865802765, nan, 1228.768436908722, 1296.5528988838196], 'std': [0.3581075668334961, 0.0, 0.0, 0.0, nan, 0.0, 0.0]}, -20: {'mean': [1131.7291939258575, 1132.0854115486145, 1133.7039630413055, 1136.4904615879059, nan, 1164.713276386261, 1199.1893064975739], 'std': [0.0, 0.0, 0.0, 0.0, nan, 0.0, 0.0]}, -25: {'mean': [1103.2177095413208, 1102.6893754005432, 1103.3106482028961, 1104.7405264377594, nan, 1118.7885584831238, 1136.309119462967], 'std': [0.0, 0.0, 0.0, 0.0, nan, 0.0, 0.0]}, -30: {'mean': [nan, nan, nan, nan, nan, nan, nan], 'std': [nan, nan, nan, nan, nan, nan, nan]}, -35: {'mean': [nan, nan, nan, nan, nan, nan, nan], 'std': [nan, nan, nan, nan, nan, nan, nan]}}\n"
     ]
    }
   ],
   "source": [
    "print(means)"
   ]
  },
  {
   "cell_type": "code",
   "execution_count": null,
   "metadata": {},
   "outputs": [],
   "source": []
  }
 ],
 "metadata": {
  "kernelspec": {
   "display_name": "Python 3",
   "language": "python",
   "name": "python3"
  },
  "language_info": {
   "codemirror_mode": {
    "name": "ipython",
    "version": 3
   },
   "file_extension": ".py",
   "mimetype": "text/x-python",
   "name": "python",
   "nbconvert_exporter": "python",
   "pygments_lexer": "ipython3",
   "version": "3.7.0"
  }
 },
 "nbformat": 4,
 "nbformat_minor": 2
}
