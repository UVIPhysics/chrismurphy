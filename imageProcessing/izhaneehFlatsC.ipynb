{
 "cells": [
  {
   "cell_type": "code",
   "execution_count": 30,
   "metadata": {
    "collapsed": true
   },
   "outputs": [],
   "source": [
    "import numpy as np\n",
    "\n",
    "import matplotlib.pyplot as plt\n",
    "import glob\n",
    "#%matplotlib inline\n",
    "import pyfits\n",
    "import scipy.optimize as optimization\n",
    "from scipy.optimize import curve_fit\n",
    "from matplotlib import rc\n",
    "rc('font',**{'family':'serif','sans-serif':['Times']})"
   ]
  },
  {
   "cell_type": "code",
   "execution_count": 2,
   "metadata": {
    "collapsed": true
   },
   "outputs": [],
   "source": [
    "datadir = \"/Volumes/VIRT-Data/20170705/\""
   ]
  },
  {
   "cell_type": "code",
   "execution_count": 3,
   "metadata": {
    "collapsed": true
   },
   "outputs": [],
   "source": [
    "biglist_flatc=glob.glob(datadir+'flatC*')"
   ]
  },
  {
   "cell_type": "code",
   "execution_count": 4,
   "metadata": {
    "collapsed": true
   },
   "outputs": [],
   "source": [
    "#print(biglist_flatc)"
   ]
  },
  {
   "cell_type": "code",
   "execution_count": 5,
   "metadata": {
    "collapsed": true
   },
   "outputs": [],
   "source": [
    "def createlist(bl, E, T):\n",
    "    smalllist_flatc = []\n",
    "    for flatc in bl:\n",
    "        myfile=pyfits.open(flatc)\n",
    "        head1=myfile[0].header\n",
    "        if float(head1['EXPOSURE']) == E and float(head1['TEMPCCD']) == T:\n",
    "            smalllist_flatc.append(flatc)\n",
    "    return smalllist_flatc"
   ]
  },
  {
   "cell_type": "code",
   "execution_count": 6,
   "metadata": {
    "collapsed": true
   },
   "outputs": [],
   "source": [
    "worklist10 = createlist(biglist_flatc, 10.0, -30)\n",
    "worklist30 = createlist(biglist_flatc, 30.0, -30)\n",
    "worklist60 = createlist(biglist_flatc, 60.0, -30)\n",
    "worklist120 = createlist(biglist_flatc, 120.0, -30)\n",
    "worklist240 = createlist(biglist_flatc, 240.0, -30)\n"
   ]
  },
  {
   "cell_type": "code",
   "execution_count": 7,
   "metadata": {
    "collapsed": true
   },
   "outputs": [],
   "source": [
    "#print(len(worklist10))"
   ]
  },
  {
   "cell_type": "code",
   "execution_count": 8,
   "metadata": {
    "collapsed": true
   },
   "outputs": [],
   "source": [
    "#def calcmead(wl):\n",
    "    #mead_counts = []\n",
    "    #for flatc in wl:\n",
    "        #myfile=pyfits.open(flatc)\n",
    "        #mead_counts.append(float(np.meadian(myfile[0].data)))\n",
    "        #myfile.close()\n",
    "        \n",
    "    #return mead_counts\n"
   ]
  },
  {
   "cell_type": "code",
   "execution_count": 7,
   "metadata": {
    "collapsed": true
   },
   "outputs": [],
   "source": [
    "def calcmed(wl):    \n",
    "    med_counts = []\n",
    "    for flatc in wl:\n",
    "        myfile=pyfits.open(flatc)\n",
    "        med_counts.append(float(np.median(myfile[0].data)))\n",
    "        myfile.close()\n",
    "        \n",
    "    return np.median(med_counts), np.std(med_counts)\n"
   ]
  },
  {
   "cell_type": "code",
   "execution_count": 8,
   "metadata": {
    "collapsed": true
   },
   "outputs": [],
   "source": [
    "med10s, std10s= calcmed(worklist10)\n",
    "med30s, std30s = calcmed(worklist30)\n",
    "med60s, std60s = calcmed(worklist60)\n",
    "med120s, std120s = calcmed(worklist120)\n",
    "med240s, std240s = calcmed(worklist240)"
   ]
  },
  {
   "cell_type": "code",
   "execution_count": 9,
   "metadata": {
    "collapsed": true
   },
   "outputs": [],
   "source": [
    "meds_flatc = (med10s, med30s, med60s, med120s, med240s)\n",
    "stds_flatc= (std10s, std30s, std60s, std120s, std240s)"
   ]
  },
  {
   "cell_type": "code",
   "execution_count": 10,
   "metadata": {
    "collapsed": true
   },
   "outputs": [],
   "source": [
    "#print(stds)"
   ]
  },
  {
   "cell_type": "code",
   "execution_count": 11,
   "metadata": {
    "collapsed": true
   },
   "outputs": [],
   "source": [
    "exposure = (10.0, 30.0, 60.0, 120.0, 240.0)"
   ]
  },
  {
   "cell_type": "code",
   "execution_count": 12,
   "metadata": {
    "collapsed": true
   },
   "outputs": [],
   "source": [
    "#print(len(meds))"
   ]
  },
  {
   "cell_type": "code",
   "execution_count": 13,
   "metadata": {},
   "outputs": [
    {
     "data": {
      "image/png": "[encoded data removed]",
      "text/plain": [
       "<matplotlib.figure.Figure at 0x10c561950>"
      ]
     },
     "metadata": {},
     "output_type": "display_data"
    }
   ],
   "source": [
    "plt.errorbar(\n",
    "    x = exposure, label = 'meds_flatc vs. exposure at -30C',\n",
    "    y = meds_flatc, \n",
    "    yerr = stds_flatc, linestyle = \"\", fmt = 'o', color = 'g', elinewidth = '4', capsize = 7) \n",
    "plt.xlabel(\"EXPOSURE TIME\"), plt.ylabel(\"MEDS COUNTS\")\n",
    "plt.legend()\n",
    "plt.savefig(\"Errorflatc30.pdf\")\n",
    "plt.show()"
   ]
  },
  {
   "cell_type": "code",
   "execution_count": 43,
   "metadata": {},
   "outputs": [
    {
     "name": "stdout",
     "output_type": "stream",
     "text": [
      "['/Volumes/VIRT-Data/20170613/flatR_2017613231043.fits', '/Volumes/VIRT-Data/20170613/flatR_2017613231148.fits', '/Volumes/VIRT-Data/20170613/flatR_2017613231254.fits', '/Volumes/VIRT-Data/20170613/flatR_201761323140.fits', '/Volumes/VIRT-Data/20170613/flatR_201761323157.fits', '/Volumes/VIRT-Data/20170613/flatR_201761494016.fits', '/Volumes/VIRT-Data/20170613/flatR_201761494122.fits', '/Volumes/VIRT-Data/20170613/flatR_201761494228.fits', '/Volumes/VIRT-Data/20170613/flatR_201761494333.fits', '/Volumes/VIRT-Data/20170613/flatR_201761494439.fits']\n"
     ]
    }
   ],
   "source": [
    "biglist_flatr=glob.glob(datadir+'flatR*')\n"
   ]
  },
  {
   "cell_type": "code",
   "execution_count": 15,
   "metadata": {
    "collapsed": true
   },
   "outputs": [],
   "source": [
    "def createlist(bl, E, T):\n",
    "    smalllist_flatr = []\n",
    "    for flatr in bl:\n",
    "        myfile=pyfits.open(flatr)\n",
    "        head1=myfile[0].header\n",
    "        if float(head1['EXPOSURE']) == E and float(head1['TEMPCCD']) == T:\n",
    "            smalllist_flatr.append(flatr)\n",
    "    return smalllist_flatr"
   ]
  },
  {
   "cell_type": "code",
   "execution_count": 16,
   "metadata": {
    "collapsed": true
   },
   "outputs": [],
   "source": [
    "worklist_30 = createlist(biglist_flatr, 30.0, -30)\n",
    "worklist_60 = createlist(biglist_flatr, 60.0, -30)\n",
    "worklist_120 = createlist(biglist_flatr, 120.0, -30)\n",
    "worklist_240 = createlist(biglist_flatr, 240.0, -30)"
   ]
  },
  {
   "cell_type": "code",
   "execution_count": 17,
   "metadata": {
    "collapsed": true
   },
   "outputs": [],
   "source": [
    "def calcmed(wl):    \n",
    "    med_counts = []\n",
    "    for flatr in wl:\n",
    "        myfile=pyfits.open(flatr)\n",
    "        med_counts.append(float(np.median(myfile[0].data)))\n",
    "        myfile.close()\n",
    "        \n",
    "    return np.median(med_counts), np.std(med_counts)\n"
   ]
  },
  {
   "cell_type": "code",
   "execution_count": 18,
   "metadata": {
    "collapsed": true
   },
   "outputs": [],
   "source": [
    "med_30s, std_30s= calcmed(worklist_30)\n",
    "med_60s, std_60s = calcmed(worklist_60)\n",
    "med_120s, std_120s = calcmed(worklist_120)\n",
    "med_240s, std_240s = calcmed(worklist_240)"
   ]
  },
  {
   "cell_type": "code",
   "execution_count": 19,
   "metadata": {
    "collapsed": true
   },
   "outputs": [],
   "source": [
    "meds_flatr=(med_30s, med_60s, med_120s, med_240s)\n",
    "stds_flatr=(std_30s, std_60s, std_120s, std_240s)"
   ]
  },
  {
   "cell_type": "code",
   "execution_count": 20,
   "metadata": {},
   "outputs": [
    {
     "name": "stdout",
     "output_type": "stream",
     "text": [
      "(2.5, 0.0)\n"
     ]
    }
   ],
   "source": [
    "print(std_120s, std_240s)"
   ]
  },
  {
   "cell_type": "code",
   "execution_count": 21,
   "metadata": {},
   "outputs": [
    {
     "name": "stdout",
     "output_type": "stream",
     "text": [
      "(5874.0, 10829.0, 20735.5, 40516.0)\n"
     ]
    }
   ],
   "source": [
    "print(meds_flatr)"
   ]
  },
  {
   "cell_type": "code",
   "execution_count": 22,
   "metadata": {
    "collapsed": true
   },
   "outputs": [],
   "source": [
    "exposure2 = (30.0, 60.0, 120.0, 240.0)"
   ]
  },
  {
   "cell_type": "code",
   "execution_count": 23,
   "metadata": {
    "collapsed": true,
    "scrolled": true
   },
   "outputs": [],
   "source": [
    "plt.errorbar(\n",
    "    x = exposure2, label = 'meds_flatr vs. exposure at -30C',\n",
    "    y = meds_flatr, \n",
    "    yerr = stds_flatr, linestyle = \"\", fmt = 'o', color = 'g', elinewidth = '4', capsize = 7) \n",
    "plt.xlabel(\"EXPOSURE TIME\"), plt.ylabel(\"MEDS COUNTS\")\n",
    "plt.legend()\n",
    "plt.savefig(\"Errorflatr30.pdf\")"
   ]
  },
  {
   "cell_type": "code",
   "execution_count": 24,
   "metadata": {
    "scrolled": false
   },
   "outputs": [
    {
     "data": {
      "text/plain": [
       "<matplotlib.legend.Legend at 0x113f8df90>"
      ]
     },
     "execution_count": 24,
     "metadata": {},
     "output_type": "execute_result"
    }
   ],
   "source": [
    "plt.figure(figsize = (12, 9))\n",
    "plt.subplot(2,1,1)\n",
    "#fig, axs = plt.subplots(2,2)\n",
    "#fig.subplots_adjust(left = 0.08, right = 0.98, wspace = 0.3)\n",
    "\n",
    "plt.errorbar(\n",
    "    x = exposure, label = 'meds_flatc vs. exposure at -30C',\n",
    "    y = meds_flatc, \n",
    "    yerr = stds_flatc, linestyle = \"\", fmt = 'o', color = 'g', elinewidth = '4', capsize = 7) \n",
    "plt.xlabel(\"EXPOSURE TIME\"), plt.ylabel(\"MEDS COUNTS\")\n",
    "plt.legend()\n",
    "#plt.semilogx()\n",
    "plt.subplot(2,1,2)\n",
    "\n",
    "plt.errorbar(\n",
    "    x = exposure2, label = 'meds_flatr vs. exposure at -30C',\n",
    "    y = meds_flatr, \n",
    "    yerr = stds_flatr, linestyle = \"\", fmt = 'o', color = 'g', elinewidth = '4', capsize = 7) \n",
    "plt.xlabel(\"EXPOSURE TIME\"), plt.ylabel(\"MEDS COUNTS\")\n",
    "plt.legend()\n",
    "#plt.semilogx()\n",
    "\n",
    "\n",
    "#plt.savefig(\"FLATC VS FLATR.pdf\")\n",
    "#plt.show()"
   ]
  },
  {
   "cell_type": "code",
   "execution_count": 25,
   "metadata": {
    "collapsed": true
   },
   "outputs": [],
   "source": [
    "def func(x, m, n):\n",
    "    return m +(x*n)"
   ]
  },
  {
   "cell_type": "code",
   "execution_count": 26,
   "metadata": {},
   "outputs": [
    {
     "name": "stdout",
     "output_type": "stream",
     "text": [
      "(array([ 931.32608589,  164.95376812]), array([[  5.46522750e+01,  -3.21483994e-01],\n",
      "       [ -3.21483994e-01,   2.85763545e-03]]))\n"
     ]
    }
   ],
   "source": [
    "print optimization.curve_fit(func, exposure2, meds_flatr)"
   ]
  },
  {
   "cell_type": "code",
   "execution_count": 27,
   "metadata": {},
   "outputs": [
    {
     "name": "stdout",
     "output_type": "stream",
     "text": [
      "(0.47140452079103168, 2.0548046676563256, 2.5, 0.0)\n"
     ]
    }
   ],
   "source": [
    "print(stds_flatr)"
   ]
  },
  {
   "cell_type": "code",
   "execution_count": 28,
   "metadata": {
    "scrolled": true
   },
   "outputs": [
    {
     "name": "stdout",
     "output_type": "stream",
     "text": [
      "(array([ 1143.66039243,   269.25151723]), array([[  4.85896511e+04,  -2.91791704e+02],\n",
      "       [ -2.91791704e+02,   3.17164867e+00]]))\n"
     ]
    }
   ],
   "source": [
    "print optimization.curve_fit(func, exposure, meds_flatc)"
   ]
  },
  {
   "cell_type": "code",
   "execution_count": 29,
   "metadata": {
    "scrolled": true
   },
   "outputs": [
    {
     "name": "stdout",
     "output_type": "stream",
     "text": [
      "((3618.0, 9113.0, 17403.0, 33905.0, 65535.0), (9.7979589711327115, 27.45614685275412, 14.732277488562318, 8.7498571416909421, 0.0))\n"
     ]
    }
   ],
   "source": [
    "print(meds_flatc, stds_flatc)"
   ]
  },
  {
   "cell_type": "code",
   "execution_count": 32,
   "metadata": {},
   "outputs": [
    {
     "data": {
      "image/png": "[encoded data removed]",
      "text/plain": [
       "<matplotlib.figure.Figure at 0x11826e610>"
      ]
     },
     "metadata": {},
     "output_type": "display_data"
    }
   ],
   "source": [
    "plt.figure(figsize = (12, 9))\n",
    "plt.subplot(1,2,1)\n",
    "plt.errorbar(x=exposure2, y=meds_flatr, yerr=stds_flatr, fmt='o',linestyle = \"\", \n",
    "             elinewidth = '4', capsize = 7,markersize = '8', label = 'Median count (R-band)')\n",
    "plt.xlabel(\"EXPOSURE TIME (sec)\"), plt.ylabel(\"MEDIAN COUNTS \")\n",
    "\n",
    "plt.text(5,35000,r'$y=931+165 x$', fontsize=14)\n",
    "\n",
    "xval=np.arange(0.1,250,10)\n",
    "plt.plot(xval, 931.32608589 + ((164.95376812)* xval), label='linear fit')\n",
    "plt.legend()\n",
    "\n",
    "plt.subplot(1,2,2)\n",
    "plt.errorbar(x=exposure, y=meds_flatc, yerr=stds_flatc, fmt='o',linestyle = \"\", \n",
    "             elinewidth = '4', capsize = 7,markersize = '8', label = 'Median count (C-band)')\n",
    "plt.xlabel(\"EXPOSURE TIME (sec)\"), plt.ylabel(\"MEDIAN COUNTS\")\n",
    "plt.text(5,58000,r'$y=1144+269 x$', fontsize=14)\n",
    "\n",
    "\n",
    "xval=np.arange(0.1,250,10)\n",
    "plt.plot(xval, 1143.66039243 + ((269.25151723)* xval),label='linear fit')\n",
    "plt.legend()\n",
    "plt.savefig(\"FITComparisons_FLATCVSFLATR.pdf\")\n",
    "plt.show()"
   ]
  },
  {
   "cell_type": "markdown",
   "metadata": {
    "collapsed": true
   },
   "source": [
    "# Brice data\n",
    "Flat in Binning 2x2 "
   ]
  },
  {
   "cell_type": "code",
   "execution_count": 37,
   "metadata": {
    "collapsed": true
   },
   "outputs": [],
   "source": [
    "datadir = \"/Volumes/VIRT-Data/20170613/\"\n",
    "biglist_flatR=glob.glob(datadir+'flatR*')\n",
    "biglist_flatC=glob.glob(datadir+'flatC*')\n",
    "biglist_flatB=glob.glob(datadir+'flatB*')\n",
    "biglist_flatV=glob.glob(datadir+'flatV*')\n",
    "biglist_flatU=glob.glob(datadir+'flatU*')\n",
    "biglist_flatO=glob.glob(datadir+'flato*')\n",
    "biglist_flatI=glob.glob(datadir+'flatI*')"
   ]
  },
  {
   "cell_type": "markdown",
   "metadata": {},
   "source": [
    "## We will work with the Median count per second per Filter"
   ]
  },
  {
   "cell_type": "code",
   "execution_count": 38,
   "metadata": {
    "collapsed": true
   },
   "outputs": [],
   "source": [
    "worklist_R = createlist(biglist_flatR, 45, -30)\n",
    "worklist_C = createlist(biglist_flatC, 30, -30)\n",
    "worklist_B = createlist(biglist_flatB, 120, -30)\n",
    "worklist_V = createlist(biglist_flatV, 120, -30)\n",
    "worklist_U = createlist(biglist_flatU, 180, -30)\n",
    "worklist_O = createlist(biglist_flatO, 30, -30)\n",
    "worklist_I = createlist(biglist_flatI, 120, -30)"
   ]
  },
  {
   "cell_type": "code",
   "execution_count": 39,
   "metadata": {},
   "outputs": [
    {
     "name": "stdout",
     "output_type": "stream",
     "text": [
      "['/Volumes/VIRT-Data/20170613/flatR_2017613231043.fits', '/Volumes/VIRT-Data/20170613/flatR_2017613231148.fits', '/Volumes/VIRT-Data/20170613/flatR_2017613231254.fits', '/Volumes/VIRT-Data/20170613/flatR_201761323140.fits', '/Volumes/VIRT-Data/20170613/flatR_201761323157.fits', '/Volumes/VIRT-Data/20170613/flatR_201761494016.fits', '/Volumes/VIRT-Data/20170613/flatR_201761494122.fits', '/Volumes/VIRT-Data/20170613/flatR_201761494228.fits', '/Volumes/VIRT-Data/20170613/flatR_201761494333.fits', '/Volumes/VIRT-Data/20170613/flatR_201761494439.fits']\n"
     ]
    }
   ],
   "source": [
    "print worklist_R"
   ]
  },
  {
   "cell_type": "code",
   "execution_count": 40,
   "metadata": {
    "collapsed": true
   },
   "outputs": [],
   "source": [
    "med_R, std_R= calcmed(worklist_R)\n",
    "med_C, std_C= calcmed(worklist_C)\n",
    "med_B, std_B= calcmed(worklist_B)\n",
    "med_V, std_V= calcmed(worklist_V)\n",
    "med_U, std_U= calcmed(worklist_U)\n",
    "med_O, std_O= calcmed(worklist_O)\n",
    "med_I, std_I= calcmed(worklist_I)"
   ]
  },
  {
   "cell_type": "code",
   "execution_count": 41,
   "metadata": {},
   "outputs": [
    {
     "name": "stdout",
     "output_type": "stream",
     "text": [
      "1244.0\n"
     ]
    }
   ],
   "source": [
    "print med_U\n"
   ]
  },
  {
   "cell_type": "code",
   "execution_count": 59,
   "metadata": {
    "collapsed": true
   },
   "outputs": [],
   "source": [
    "meds_flat=[med_O/30.,med_C/30., med_R/45., med_V/120., med_B/120,med_U/180.,med_I/120.]\n",
    "stds_flat=[std_O/30.,std_C/30., std_R/45., std_V/120., std_B/120,std_U/180.,std_I/120.]"
   ]
  },
  {
   "cell_type": "code",
   "execution_count": 83,
   "metadata": {},
   "outputs": [
    {
     "data": {
      "image/png": "[encoded data removed]",
      "text/plain": [
       "<matplotlib.figure.Figure at 0x11cf71f90>"
      ]
     },
     "metadata": {},
     "output_type": "display_data"
    }
   ],
   "source": [
    "plt.figure(figsize = (12, 9))\n",
    "xval=range(7)\n",
    "plt.errorbar(x=xval, y=meds_flat, yerr=stds_flat, fmt='o',linestyle = \"\", \n",
    "             elinewidth = '4', capsize = 7,markersize = '8', \n",
    "             label = 'Exposure Normalized Median Count (c/s)')\n",
    "\n",
    "plt.xlabel(\"Filter\"), plt.ylabel(\"Normalized counts (c/s) \")\n",
    "\n",
    "plt.xticks( np.arange(7),(\"O\",'C','R','V','B','U','I'))\n",
    "plt.legend()\n",
    "#plt.savefig(\"Flat_normcount.pdf\")\n",
    "plt.show()"
   ]
  },
  {
   "cell_type": "code",
   "execution_count": 77,
   "metadata": {
    "collapsed": true
   },
   "outputs": [],
   "source": [
    "?plt.xticks\n"
   ]
  },
  {
   "cell_type": "code",
   "execution_count": null,
   "metadata": {
    "collapsed": true
   },
   "outputs": [],
   "source": []
  }
 ],
 "metadata": {
  "kernelspec": {
   "display_name": "Python 2",
   "language": "python",
   "name": "python2"
  },
  "language_info": {
   "codemirror_mode": {
    "name": "ipython",
    "version": 2
   },
   "file_extension": ".py",
   "mimetype": "text/x-python",
   "name": "python",
   "nbconvert_exporter": "python",
   "pygments_lexer": "ipython2",
   "version": "2.7.13"
  }
 },
 "nbformat": 4,
 "nbformat_minor": 2
}
